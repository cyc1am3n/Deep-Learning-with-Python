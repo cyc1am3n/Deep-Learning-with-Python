{
 "cells": [
  {
   "cell_type": "markdown",
   "metadata": {},
   "source": [
    "# Chap03-5. 뉴스 기사 분류: 다중 분류 문제\n",
    "이 notebook에서는 뉴스 텍스트 기반으로 로이터 뉴스를 46개의 토픽으로 나누는 다중 분류를 보여주겠습니다.  \n",
    "<br />\n",
    "\n",
    "### 로이터 데이터셋\n",
    "1986년에 로이터에서 공개한 짧은 뉴스와 토픽의 집합인 **로이터 데이터셋**을 사용하겠습니다.  \n",
    "46개의 토픽이 있으며 각 토픽은 훈련 세트에 10개 이상의 샘플을 가지고 있습니다.  \n",
    "<br />\n",
    "또한 로이터 데이터셋은 MNIST, IMDB 데이터셋과 마찬가지로 Keras에 포함되어 있습니다."
   ]
  },
  {
   "cell_type": "code",
   "execution_count": 1,
   "metadata": {},
   "outputs": [],
   "source": [
    "from tensorflow.keras.datasets import reuters\n",
    "\n",
    "(train_data, train_labels), (test_data, test_labels) = reuters.load_data(num_words=10000)"
   ]
  },
  {
   "cell_type": "markdown",
   "metadata": {},
   "source": [
    "IMDB 데이터셋과 마찬가지로 매개변수인 `num_words`는 가장 많은 빈도로 존재하는 단어 10000개만 사용하겠다는 것을 나타냅니다.  \n",
    "한번 이 데이터가 어떻게 생겼는지 살펴보겠습니다."
   ]
  },
  {
   "cell_type": "code",
   "execution_count": 2,
   "metadata": {},
   "outputs": [
    {
     "name": "stdout",
     "output_type": "stream",
     "text": [
      "8982 2246\n"
     ]
    }
   ],
   "source": [
    "print(len(train_data), len(test_data))"
   ]
  },
  {
   "cell_type": "code",
   "execution_count": 3,
   "metadata": {},
   "outputs": [
    {
     "data": {
      "text/plain": [
       "[1,\n",
       " 53,\n",
       " 648,\n",
       " 26,\n",
       " 14,\n",
       " 749,\n",
       " 26,\n",
       " 39,\n",
       " 6207,\n",
       " 5466,\n",
       " 14,\n",
       " 4922,\n",
       " 4001,\n",
       " 86,\n",
       " 147,\n",
       " 72,\n",
       " 11,\n",
       " 14,\n",
       " 321,\n",
       " 61,\n",
       " 11,\n",
       " 29,\n",
       " 53,\n",
       " 19,\n",
       " 965,\n",
       " 150,\n",
       " 14,\n",
       " 19,\n",
       " 492,\n",
       " 150,\n",
       " 39,\n",
       " 12,\n",
       " 3200,\n",
       " 3859,\n",
       " 14,\n",
       " 32,\n",
       " 3327,\n",
       " 5756,\n",
       " 86,\n",
       " 251,\n",
       " 59,\n",
       " 11,\n",
       " 14,\n",
       " 193,\n",
       " 47,\n",
       " 11,\n",
       " 123,\n",
       " 48,\n",
       " 1642,\n",
       " 346,\n",
       " 9,\n",
       " 29,\n",
       " 39,\n",
       " 235,\n",
       " 338,\n",
       " 46,\n",
       " 5,\n",
       " 2,\n",
       " 323,\n",
       " 5,\n",
       " 187,\n",
       " 5532,\n",
       " 15,\n",
       " 9,\n",
       " 4315,\n",
       " 6675,\n",
       " 15,\n",
       " 58,\n",
       " 191,\n",
       " 26,\n",
       " 90,\n",
       " 67,\n",
       " 773,\n",
       " 105,\n",
       " 1642,\n",
       " 346,\n",
       " 9,\n",
       " 29,\n",
       " 39,\n",
       " 235,\n",
       " 46,\n",
       " 7,\n",
       " 2,\n",
       " 304,\n",
       " 5,\n",
       " 1929,\n",
       " 4016,\n",
       " 15,\n",
       " 9,\n",
       " 4527,\n",
       " 5086,\n",
       " 15,\n",
       " 58,\n",
       " 158,\n",
       " 26,\n",
       " 90,\n",
       " 67,\n",
       " 773,\n",
       " 17,\n",
       " 12]"
      ]
     },
     "execution_count": 3,
     "metadata": {},
     "output_type": "execute_result"
    }
   ],
   "source": [
    "train_data[7]"
   ]
  },
  {
   "cell_type": "markdown",
   "metadata": {},
   "source": [
    "IMDB 데이터와 같이 단어 인덱스를 리스트로 가지고 있네요. 저번과 같이 원래 텍스트로 디코딩해보겠습니다."
   ]
  },
  {
   "cell_type": "code",
   "execution_count": 4,
   "metadata": {},
   "outputs": [
    {
     "data": {
      "text/plain": [
       "'? ? ? said as a result of its december acquisition of space co it expects earnings per share in 1987 of 1 15 to 1 30 dlrs per share up from 70 cts in 1986 the company said pretax net should rise to nine to 10 mln dlrs from six mln dlrs in 1986 and rental operation revenues to 19 to 22 mln dlrs from 12 5 mln dlrs it said cash flow per share this year should be 2 50 to three dlrs reuter 3'"
      ]
     },
     "execution_count": 4,
     "metadata": {},
     "output_type": "execute_result"
    }
   ],
   "source": [
    "word_index = reuters.get_word_index()\n",
    "\n",
    "def decode_review(news):\n",
    "    reverse_word_index = dict([(value, key) for (key, value) in word_index.items()])\n",
    "    decode = ' '.join([reverse_word_index.get(i - 3, '?') for i in news])\n",
    "    return decode\n",
    "\n",
    "decode_review(train_data[0])"
   ]
  },
  {
   "cell_type": "markdown",
   "metadata": {},
   "source": [
    "이제 신경망에 학습시킬 데이터를 처리할텐데, 저번과 같은 코드로 데이터를 인코딩 하겠습니다."
   ]
  },
  {
   "cell_type": "code",
   "execution_count": 5,
   "metadata": {},
   "outputs": [
    {
     "name": "stdout",
     "output_type": "stream",
     "text": [
      "x_train  (8982, 10000)\n",
      "x_test  (2246, 10000)\n"
     ]
    }
   ],
   "source": [
    "import numpy as np\n",
    "\n",
    "def vectorize_sequences(sequences, dimension=10000):\n",
    "    results = np.zeros((len(sequences), dimension))\n",
    "    for i, sequence in enumerate(sequences):\n",
    "        results[i, sequence] = 1.\n",
    "    return results\n",
    "\n",
    "x_train = vectorize_sequences(train_data)\n",
    "x_test = vectorize_sequences(test_data)\n",
    "\n",
    "print(\"x_train \", x_train.shape)\n",
    "print(\"x_test \", x_test.shape)"
   ]
  },
  {
   "cell_type": "markdown",
   "metadata": {},
   "source": [
    "로이터 뉴스 문제(다중 분류 문제)는 리뷰 분석 문제와는 다르게 각 레이블이 리스트 형태로 존재하고 있기 때문에 학습하기에 알맞게 벡터화를 시킬 때 **원 핫 인코딩**을 시켜야 합니다.(물론 리스트를 정수 텐서로 바꾸는 것도 가능합니다.)"
   ]
  },
  {
   "cell_type": "code",
   "execution_count": 6,
   "metadata": {},
   "outputs": [],
   "source": [
    "def to_one_hot(labels, dimension=46):\n",
    "    results = np.zeros((len(labels), dimension))\n",
    "    for i, label in enumerate(labels):\n",
    "        results[i, label] = 1.\n",
    "    return results\n",
    "\n",
    "one_hot_train_labels = to_one_hot(train_labels)\n",
    "one_hot_test_labels = to_one_hot(test_labels)"
   ]
  },
  {
   "cell_type": "markdown",
   "metadata": {},
   "source": [
    "또한 학습 과정에서 사용할 검증 세트도 만들어봅시다."
   ]
  },
  {
   "cell_type": "code",
   "execution_count": 7,
   "metadata": {},
   "outputs": [],
   "source": [
    "x_val = x_train[:1000]\n",
    "partial_x_train = x_train[1000:]\n",
    "y_val = one_hot_train_labels[:1000]\n",
    "partial_y_train = one_hot_train_labels[1000:]"
   ]
  },
  {
   "cell_type": "markdown",
   "metadata": {},
   "source": [
    "신경망에 학습시킬 데이터가 모두 준비되었으니, 이제 모델을 만들도록 하겠습니다.  \n",
    "<br />\n",
    "이번에는 출력 클래스가 46개로 늘어나서 출력 차원이 훨씬 커졌습니다.  \n",
    "한편 이전에 사용했던 Dense 층을 쌓으면 각 층은 이전 층의 출력에서 제공한 정보만 사용할 수 있는데, 한 층이 분류 문제에 필요한 어떤 정보를 누락하면 그 다음 층에서 이를 가져올 방법이 없습니다.  \n",
    "이는 각층이 잠재적으로 **정보의 병목**이 될 수 있다는 의미인데요, 저번과 같은 모델의 16개의 차원을 가진 중간층을 사용한다면 46개의 출력층으로 정보를 보낼 때 정보의 병목현상이 발생할 확률이 높습니다.  \n",
    "그래서 이번에는 저번보다 규모가 큰 층을 사용해 모델을 만들겠습니다."
   ]
  },
  {
   "cell_type": "code",
   "execution_count": 8,
   "metadata": {},
   "outputs": [],
   "source": [
    "from tensorflow.keras import models\n",
    "from tensorflow.keras import layers\n",
    "\n",
    "model = models.Sequential()\n",
    "model.add(layers.Dense(64, activation='relu', input_shape=(10000, )))\n",
    "model.add(layers.Dense(64, activation='relu'))\n",
    "model.add(layers.Dense(46, activation='softmax'))"
   ]
  },
  {
   "cell_type": "markdown",
   "metadata": {},
   "source": [
    "![NN structure](./images/nn-3.png)  \n",
    "위 그림과 같은 모델을 만들었습니다.  \n",
    "크기가 64인 두 개의 Dense 층 위에 크기가 46인 마지막 Dense 층을 쌓았는데요, 여기에서는 활성화 함수로 softmax 함수를 사용했습니다.  \n",
    "각 입력 샘플마다 46개의 클래스(여기서는 토픽)에 속할 확률을 출력하고 46개의 값들을 전부 더하면 1이 됩니다.  \n",
    "<br />\n",
    "이제 이 모델을 컴파일하면 훈련시킬 준비를 마치게 됩니다.  \n",
    "여기에서는 `categorical_crossentropy`라는 손실함수를 사용합니다."
   ]
  },
  {
   "cell_type": "code",
   "execution_count": 9,
   "metadata": {},
   "outputs": [],
   "source": [
    "model.compile(optimizer='rmsprop',\n",
    "             loss='categorical_crossentropy',\n",
    "             metrics=['accuracy'])"
   ]
  },
  {
   "cell_type": "markdown",
   "metadata": {},
   "source": [
    "모델을 학습시킵시다."
   ]
  },
  {
   "cell_type": "code",
   "execution_count": 10,
   "metadata": {},
   "outputs": [
    {
     "name": "stdout",
     "output_type": "stream",
     "text": [
      "Train on 7982 samples, validate on 1000 samples\n",
      "Epoch 1/20\n",
      "7982/7982 [==============================] - 1s 151us/step - loss: 2.6567 - acc: 0.5291 - val_loss: 1.7635 - val_acc: 0.6490\n",
      "Epoch 2/20\n",
      "7982/7982 [==============================] - 1s 91us/step - loss: 1.4394 - acc: 0.7052 - val_loss: 1.3299 - val_acc: 0.7010\n",
      "Epoch 3/20\n",
      "7982/7982 [==============================] - 1s 85us/step - loss: 1.0587 - acc: 0.7771 - val_loss: 1.1412 - val_acc: 0.7420\n",
      "Epoch 4/20\n",
      "7982/7982 [==============================] - 1s 87us/step - loss: 0.8327 - acc: 0.8232 - val_loss: 1.0335 - val_acc: 0.7860\n",
      "Epoch 5/20\n",
      "7982/7982 [==============================] - 1s 88us/step - loss: 0.6595 - acc: 0.8658 - val_loss: 0.9842 - val_acc: 0.7840\n",
      "Epoch 6/20\n",
      "7982/7982 [==============================] - 1s 95us/step - loss: 0.5323 - acc: 0.8895 - val_loss: 0.9309 - val_acc: 0.8090\n",
      "Epoch 7/20\n",
      "7982/7982 [==============================] - 1s 100us/step - loss: 0.4252 - acc: 0.9142 - val_loss: 0.8984 - val_acc: 0.8210\n",
      "Epoch 8/20\n",
      "7982/7982 [==============================] - 1s 96us/step - loss: 0.3469 - acc: 0.9308 - val_loss: 0.8948 - val_acc: 0.8130\n",
      "Epoch 9/20\n",
      "7982/7982 [==============================] - 1s 86us/step - loss: 0.2879 - acc: 0.9379 - val_loss: 0.8977 - val_acc: 0.8150\n",
      "Epoch 10/20\n",
      "7982/7982 [==============================] - 1s 88us/step - loss: 0.2394 - acc: 0.9445 - val_loss: 0.9292 - val_acc: 0.8050\n",
      "Epoch 11/20\n",
      "7982/7982 [==============================] - 1s 91us/step - loss: 0.2095 - acc: 0.9486 - val_loss: 0.9256 - val_acc: 0.8100\n",
      "Epoch 12/20\n",
      "7982/7982 [==============================] - 1s 90us/step - loss: 0.1826 - acc: 0.9519 - val_loss: 0.9385 - val_acc: 0.8100\n",
      "Epoch 13/20\n",
      "7982/7982 [==============================] - 1s 86us/step - loss: 0.1675 - acc: 0.9515 - val_loss: 0.9388 - val_acc: 0.8050\n",
      "Epoch 14/20\n",
      "7982/7982 [==============================] - 1s 85us/step - loss: 0.1490 - acc: 0.9550 - val_loss: 0.9812 - val_acc: 0.8030\n",
      "Epoch 15/20\n",
      "7982/7982 [==============================] - 1s 96us/step - loss: 0.1425 - acc: 0.9550 - val_loss: 0.9778 - val_acc: 0.8060\n",
      "Epoch 16/20\n",
      "7982/7982 [==============================] - 1s 96us/step - loss: 0.1306 - acc: 0.9562 - val_loss: 1.0163 - val_acc: 0.8050\n",
      "Epoch 17/20\n",
      "7982/7982 [==============================] - 1s 93us/step - loss: 0.1262 - acc: 0.9573 - val_loss: 1.0569 - val_acc: 0.7950\n",
      "Epoch 18/20\n",
      "7982/7982 [==============================] - 1s 99us/step - loss: 0.1216 - acc: 0.9553 - val_loss: 1.0386 - val_acc: 0.8020\n",
      "Epoch 19/20\n",
      "7982/7982 [==============================] - 1s 106us/step - loss: 0.1208 - acc: 0.9569 - val_loss: 1.0510 - val_acc: 0.8010\n",
      "Epoch 20/20\n",
      "7982/7982 [==============================] - 1s 96us/step - loss: 0.1102 - acc: 0.9588 - val_loss: 1.0339 - val_acc: 0.7990\n"
     ]
    }
   ],
   "source": [
    "history = model.fit(partial_x_train,\n",
    "                   partial_y_train,\n",
    "                   epochs=20,\n",
    "                   batch_size=512,\n",
    "                   validation_data=(x_val, y_val))"
   ]
  },
  {
   "cell_type": "markdown",
   "metadata": {},
   "source": [
    "저번 예제와 같이 제대로 학습이 되었는지 보기 위해서 훈련과 검증손실, 정확도를 그래프로 나타내보겠습니다."
   ]
  },
  {
   "cell_type": "code",
   "execution_count": 11,
   "metadata": {},
   "outputs": [
    {
     "data": {
      "image/png": "[encoded data removed]",
      "text/plain": [
       "<Figure size 432x288 with 1 Axes>"
      ]
     },
     "metadata": {},
     "output_type": "display_data"
    }
   ],
   "source": [
    "import matplotlib.pyplot as plt\n",
    "%matplotlib inline\n",
    "\n",
    "history_dict = history.history\n",
    "loss = history_dict['loss']\n",
    "val_loss = history_dict['val_loss']\n",
    "\n",
    "epochs = range(1, len(loss) + 1)\n",
    "\n",
    "plt.plot(epochs, loss, 'bo', label=\"Training loss\")\n",
    "plt.plot(epochs, val_loss, 'b', label=\"Validation loss\")\n",
    "plt.title(\"Training and validation loss\")\n",
    "plt.xlabel(\"Epochs\")\n",
    "plt.ylabel(\"Loss\")\n",
    "plt.legend()\n",
    "\n",
    "plt.show()"
   ]
  },
  {
   "cell_type": "code",
   "execution_count": 12,
   "metadata": {},
   "outputs": [
    {
     "data": {
      "image/png": "[encoded data removed]",
      "text/plain": [
       "<Figure size 432x288 with 1 Axes>"
      ]
     },
     "metadata": {},
     "output_type": "display_data"
    }
   ],
   "source": [
    "plt.clf()\n",
    "acc = history_dict['acc']\n",
    "val_acc = history_dict['val_acc']\n",
    "\n",
    "plt.plot(epochs, acc, 'bo', label=\"Training acc\")\n",
    "plt.plot(epochs, val_acc, 'b', label=\"Validation acc\")\n",
    "plt.title(\"Training and validation acc\")\n",
    "plt.xlabel(\"Epochs\")\n",
    "plt.ylabel(\"Accuracy\")\n",
    "plt.legend()\n",
    "\n",
    "plt.show()"
   ]
  },
  {
   "cell_type": "markdown",
   "metadata": {},
   "source": [
    "9번째 에포크 이후로 과대 적합이 시작되고 있습니다.  \n",
    "이제 이를 바탕으로 아홉 번의 에포크 동안만 학습하는 새로운 모델을 만들어서 테스트 데이터로 확인해보겠습니다."
   ]
  },
  {
   "cell_type": "code",
   "execution_count": null,
   "metadata": {},
   "outputs": [],
   "source": [
    "model = models.Sequential()\n",
    "model.add(layers.Dense(64, activation='relu', input_shape=(10000, )))\n",
    "model.add(layers.Dense(64, activation='relu'))\n",
    "model.add(layers.Dense(46, activation='softmax'))\n",
    "\n",
    "model.compile(optimizer='rmsprop',\n",
    "             loss='categorical_crossentropy',\n",
    "             metrics=['accuracy'])\n",
    "\n",
    "model.fit(partial_x_train,\n",
    "          partial_y_train,\n",
    "          epochs=9,\n",
    "          batch_size=512,\n",
    "          validation_data=(x_val, y_val))\n",
    "\n",
    "model.evaluate(x_test, one_hot_test_labels)"
   ]
  },
  {
   "cell_type": "markdown",
   "metadata": {},
   "source": [
    "대략 78%의 정확도를 가지게 됩니다.  \n",
    "<br />\n",
    "### 레이블을 인코딩하는 다른 방법: 정수 텐서로 변환\n",
    "앞서 언급했던 것 처럼 레이블을 인코딩하는 방법으로는 원 핫 인코딩 외에도 다음과 같이 정수 텐서로 변환하는 방법이 있습니다."
   ]
  },
  {
   "cell_type": "code",
   "execution_count": null,
   "metadata": {},
   "outputs": [],
   "source": [
    "y_train = np.array(train_labels)\n",
    "y_test = np.array(test_labels)"
   ]
  },
  {
   "cell_type": "markdown",
   "metadata": {},
   "source": [
    "이 방법을 사용할 때는 손실 함수 하나만 바꾸면 됩니다.  \n",
    "여기에서는 `categorical_crossentropy` 대신에 `sparse_categorical_crossentropy` 로 바꿔서 사용합니다."
   ]
  },
  {
   "cell_type": "code",
   "execution_count": null,
   "metadata": {},
   "outputs": [],
   "source": [
    "model.compile(optimizer='rmsprop',\n",
    "             loss='sparse_categorical_crossentropy',\n",
    "             metrics=['accuracy'])"
   ]
  },
  {
   "cell_type": "markdown",
   "metadata": {},
   "source": [
    "### 요약\n",
    "* N개의 클래스로 데이터 포인트를 분류하려면 네트워크의 마지막 Dense층의 크기는 N이어야 합니다.\n",
    "* 단일 레이블, 다중 분류 문제에서는 N개의 클래스에 대한 확률 분포를 출력하기 위해 `softmax`활성화 함수를 사용합니다.\n",
    "* 이런 문제에는 항상 범주형 크로스 엔트로피를 사용해야 합니다. 이 함수는 모델이 출력한 확률 분포와 타깃 분포 사이의 거리를 최소화합니다.\n",
    "* 다중 분류에서 레이블을 다루는 두 가지 방법이 있습니다.\n",
    "    1. 레이블 범주형 인코딩(원-핫 인코딩)으로 인코딩하고 `categorical_crossentropy` 손실 함수를 사용합니다.\n",
    "    2. 레이블을 정수로 인코딩하고 `sparse_categorical_crossentropy` 손실 함수를 사용합니다.\n",
    "* 많은 수의 범주를 분류할 때 중간층의 크기가 너무 작아 네트워크에 정보의 병목이 생기지 않도록 해야 합니다."
   ]
  },
  {
   "cell_type": "markdown",
   "metadata": {},
   "source": [
    "## +) TensorFlow를 이용해 구현해보기"
   ]
  },
  {
   "cell_type": "code",
   "execution_count": null,
   "metadata": {},
   "outputs": [],
   "source": [
    "import tensorflow as tf\n",
    "from sklearn.utils import shuffle\n",
    "\n",
    "# 데이터 셔플\n",
    "x_train_, y_train_ = shuffle(x_train, one_hot_train_labels)\n",
    "x_test_, y_test_ = shuffle(x_test, one_hot_test_labels)\n",
    "\n",
    "# Placeholder 선언(feed할 데이터와 라벨)\n",
    "inputs = tf.placeholder(tf.float32, [None, 10000])\n",
    "labels = tf.placeholder(tf.float32, [None, 46])\n",
    "\n",
    "# 모델 정의\n",
    "nn1 = tf.layers.dense(inputs=inputs, units=64, activation=tf.nn.relu)\n",
    "nn2 = tf.layers.dense(inputs=nn1, units=64, activation=tf.nn.relu)\n",
    "logits = tf.layers.dense(inputs=nn2, units=46, activation=None)\n",
    "\n",
    "# 손실 함수는 cross_entropy, 옵티마이저는 rmsprop 사용 (learning rate는 0.04)\n",
    "cross_entropy = tf.nn.softmax_cross_entropy_with_logits_v2(labels=labels, logits=logits)\n",
    "cross_entropy_mean = tf.reduce_mean(cross_entropy)\n",
    "train_step = tf.train.RMSPropOptimizer(0.03).minimize(cross_entropy)\n",
    "\n",
    "correct = tf.equal(tf.argmax(logits, 1), tf.argmax(labels, 1))\n",
    "accuracy = tf.reduce_mean(tf.cast(correct, tf.float32))\n",
    "\n",
    "# 학습 및 평가\n",
    "with tf.Session() as sess:\n",
    "    sess.run(tf.global_variables_initializer())\n",
    "\n",
    "    # 배치 사이즈와 에포크 지정\n",
    "    batch_size = 512\n",
    "    training_epochs = 10\n",
    "\n",
    "    for epoch in range(training_epochs):\n",
    "        batch_count = int(x_train_.shape[0] / batch_size)\n",
    "        for i in range(batch_count):\n",
    "            batch_xs = x_train_[i * batch_size : min((i + 1) * batch_size, x_train_.shape[0])]\n",
    "            batch_ys = y_train_[i * batch_size : min((i + 1) * batch_size, x_train_.shape[0])]\n",
    "\n",
    "            sess.run(train_step, feed_dict={inputs: batch_xs, labels: batch_ys})\n",
    "\n",
    "        loss, acc = sess.run([cross_entropy_mean, accuracy], feed_dict={inputs: batch_xs, labels: batch_ys})\n",
    "        print('Epoch ' + str(epoch + 1) + '/' + str(training_epochs))\n",
    "        print('loss: {:.4f} | accuracy: {:.4f}'.format(loss, acc))\n",
    "\n",
    "    test_loss, test_acc = sess.run([cross_entropy_mean, accuracy], feed_dict={inputs: x_test_, labels: y_test_})\n",
    "    print('\\ntest loss: {:.4f} | test accuracy: {:.4f}'.format(test_loss, test_acc))"
   ]
  }
 ],
 "metadata": {
  "kernelspec": {
   "display_name": "Python (myenv)",
   "language": "python",
   "name": "myenv"
  },
  "language_info": {
   "codemirror_mode": {
    "name": "ipython",
    "version": 3
   },
   "file_extension": ".py",
   "mimetype": "text/x-python",
   "name": "python",
   "nbconvert_exporter": "python",
   "pygments_lexer": "ipython3",
   "version": "3.6.5"
  }
 },
 "nbformat": 4,
 "nbformat_minor": 2
}
